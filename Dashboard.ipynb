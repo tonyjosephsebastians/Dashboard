{
  "nbformat": 4,
  "nbformat_minor": 0,
  "metadata": {
    "colab": {
      "name": "Dashboard.ipynb",
      "provenance": [],
      "collapsed_sections": [],
      "authorship_tag": "ABX9TyOLQEMa/k0VPcCbu+H2OtIK",
      "include_colab_link": true
    },
    "kernelspec": {
      "name": "python3",
      "display_name": "Python 3"
    },
    "language_info": {
      "name": "python"
    }
  },
  "cells": [
    {
      "cell_type": "markdown",
      "metadata": {
        "id": "view-in-github",
        "colab_type": "text"
      },
      "source": [
        "<a href=\"https://colab.research.google.com/github/tonyjosephsebastians/Dashboard/blob/main/Dashboard.ipynb\" target=\"_parent\"><img src=\"https://colab.research.google.com/assets/colab-badge.svg\" alt=\"Open In Colab\"/></a>"
      ]
    },
    {
      "cell_type": "code",
      "source": [
        "!pip install streamlit -q"
      ],
      "metadata": {
        "colab": {
          "base_uri": "https://localhost:8080/"
        },
        "id": "76_E-LmaO13J",
        "outputId": "8eccedb0-d269-46bd-e0ae-e5bf34160bde"
      },
      "execution_count": 3,
      "outputs": [
        {
          "output_type": "stream",
          "name": "stdout",
          "text": [
            "\u001b[K     |████████████████████████████████| 9.2 MB 5.0 MB/s \n",
            "\u001b[K     |████████████████████████████████| 164 kB 38.7 MB/s \n",
            "\u001b[K     |████████████████████████████████| 4.3 MB 38.2 MB/s \n",
            "\u001b[K     |████████████████████████████████| 76 kB 4.3 MB/s \n",
            "\u001b[K     |████████████████████████████████| 180 kB 66.4 MB/s \n",
            "\u001b[K     |████████████████████████████████| 111 kB 57.7 MB/s \n",
            "\u001b[K     |████████████████████████████████| 63 kB 1.4 MB/s \n",
            "\u001b[K     |████████████████████████████████| 126 kB 63.8 MB/s \n",
            "\u001b[K     |████████████████████████████████| 791 kB 47.1 MB/s \n",
            "\u001b[K     |████████████████████████████████| 374 kB 66.9 MB/s \n",
            "\u001b[?25h  Building wheel for blinker (setup.py) ... \u001b[?25l\u001b[?25hdone\n",
            "\u001b[31mERROR: pip's dependency resolver does not currently take into account all the packages that are installed. This behaviour is the source of the following dependency conflicts.\n",
            "jupyter-console 5.2.0 requires prompt-toolkit<2.0.0,>=1.0.0, but you have prompt-toolkit 3.0.24 which is incompatible.\n",
            "google-colab 1.0.0 requires ipykernel~=4.10, but you have ipykernel 6.6.0 which is incompatible.\n",
            "google-colab 1.0.0 requires ipython~=5.5.0, but you have ipython 7.30.1 which is incompatible.\u001b[0m\n"
          ]
        }
      ]
    },
    {
      "cell_type": "code",
      "execution_count": 8,
      "metadata": {
        "colab": {
          "base_uri": "https://localhost:8080/"
        },
        "id": "x0MNgWO2N4zQ",
        "outputId": "b5f9461b-2c27-4434-db8f-e0a9d58727fc"
      },
      "outputs": [
        {
          "output_type": "stream",
          "name": "stdout",
          "text": [
            "Overwriting app.py\n"
          ]
        }
      ],
      "source": [
        "%%writefile app.py\n",
        "import streamlit as st\n",
        "import pandas as pd\n",
        "import matplotlib.pyplot as plt\n",
        "import seaborn as sns\n",
        "import base64\n",
        "\n",
        "\n",
        "\n",
        "def get_cuisine(cuisine):\n",
        "\n",
        "\n",
        "  goodrest = pd.read_csv('Best_rest.csv')\n",
        "  goodcuisine = goodrest[(goodrest['category1']).str.contains(cuisine) | (goodrest['category2']).str.contains(cuisine) | (goodrest['category3']).str.contains(cuisine) | (goodrest['category4']).str.contains(cuisine) | (goodrest['category5']).str.contains(cuisine) | (goodrest['category6']).str.contains(cuisine) | (goodrest['category7']).str.contains(cuisine) | (goodrest['category8']).str.contains(cuisine) | (goodrest['category9']).str.contains(cuisine) | (goodrest['category10']).str.contains(cuisine)]\n",
        "\n",
        "  for i in goodcuisine.index:\n",
        "      #if goodcuisine.category1[i] == cuisine:\n",
        "      final = goodcuisine[['name', 'Monday', 'Tuesday','Wednesday', 'Thursday', 'Friday', 'Saturday', 'Sunday', 'sentiment','stars']]\n",
        "  f1=final.sort_values('sentiment', axis=0, ascending=False).head(10)\n",
        "  return f1\n",
        "\n",
        "def get_base64_of_bin_file(bin_file):\n",
        "    with open(bin_file, 'rb') as f:\n",
        "        data = f.read()\n",
        "    return base64.b64encode(data).decode()\n",
        "\n",
        "def set_png_as_page_bg(png_file):\n",
        "    bin_str = get_base64_of_bin_file(png_file) \n",
        "    page_bg_img = '''\n",
        "    <style>\n",
        "    .stApp {\n",
        "    background-image: url(\"data:image/png;base64,%s\");\n",
        "    background-size: cover;\n",
        "    background-repeat: no-repeat;\n",
        "    background-attachment: scroll; # doesn't work\n",
        "    }\n",
        "    </style>\n",
        "    ''' % bin_str\n",
        "    st.markdown(page_bg_img, unsafe_allow_html=True)\n",
        "    return\n",
        "\n",
        "set_png_as_page_bg('white.png')\n",
        "st.title('Canada Restaurants Reviews sentimental Analysis and Recommendation')\n",
        "\n",
        "cuisine = st.selectbox('Select Your Favourite Cuisine',('None','indian','thai','japanese','italian','chinese'))\n",
        "st.write('You selected:', cuisine)\n",
        "\n",
        "if cuisine != 'None':\n",
        "  data = get_cuisine(cuisine)\n",
        "\n",
        "  st.write(f\"Best Restuarnts for {cuisine} cuisine  is:\")\n",
        "  for i in range(0,len(data)):\n",
        "    st.write(data.iloc[i,0])\n",
        "\n",
        "  st.markdown(\"\")\n",
        "  plt_df = data[['name','stars']]\n",
        "  fig, ax = plt.subplots()\n",
        "\n",
        "  sns.barplot(x = data['stars'], y = data['name'],palette = 'rainbow', ax =ax)\n",
        "  ax.set_title(\"Best Restaurants vs Star Rating\")\n",
        "  st.pyplot(fig)\n",
        "  \n"
      ]
    },
    {
      "cell_type": "code",
      "source": [
        "!streamlit run app.py & npx localtunnel --port 8501"
      ],
      "metadata": {
        "colab": {
          "base_uri": "https://localhost:8080/"
        },
        "id": "3XpMW6p3N7PB",
        "outputId": "16dc493a-7fb9-4c1e-a1d3-556e4c00abe9"
      },
      "execution_count": 10,
      "outputs": [
        {
          "output_type": "stream",
          "name": "stdout",
          "text": [
            "\u001b[0m\n",
            "\u001b[34m\u001b[1m  You can now view your Streamlit app in your browser.\u001b[0m\n",
            "\u001b[0m\n",
            "\u001b[34m  Network URL: \u001b[0m\u001b[1mhttp://172.28.0.2:8501\u001b[0m\n",
            "\u001b[34m  External URL: \u001b[0m\u001b[1mhttp://35.227.16.174:8501\u001b[0m\n",
            "\u001b[0m\n",
            "\u001b[K\u001b[?25hnpx: installed 22 in 3.66s\n",
            "your url is: https://chilly-kangaroo-60.loca.lt\n",
            "\u001b[34m  Stopping...\u001b[0m\n",
            "^C\n"
          ]
        }
      ]
    }
  ]
}